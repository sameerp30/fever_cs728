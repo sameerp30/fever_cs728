{
 "cells": [
  {
   "cell_type": "code",
   "execution_count": 2,
   "metadata": {},
   "outputs": [
    {
     "name": "stderr",
     "output_type": "stream",
     "text": [
      "/raid/nlp/sameer/anaconda3/envs/myenv/lib/python3.10/site-packages/tqdm/auto.py:21: TqdmWarning: IProgress not found. Please update jupyter and ipywidgets. See https://ipywidgets.readthedocs.io/en/stable/user_install.html\n",
      "  from .autonotebook import tqdm as notebook_tqdm\n",
      "2024-03-25 00:27:06 - PyTorch version 2.2.1 available.\n",
      "/raid/nlp/sameer/anaconda3/envs/myenv/lib/python3.10/site-packages/datasets/load.py:1461: FutureWarning: The repository for fever contains custom code which must be executed to correctly load the dataset. You can inspect the repository content at https://hf.co/datasets/fever\n",
      "You can avoid this message in future by passing the argument `trust_remote_code=True`.\n",
      "Passing `trust_remote_code=True` will be mandatory to load this dataset from the next major release of `datasets`.\n",
      "  warnings.warn(\n",
      "/raid/nlp/sameer/anaconda3/envs/myenv/lib/python3.10/site-packages/datasets/load.py:1461: FutureWarning: The repository for fever contains custom code which must be executed to correctly load the dataset. You can inspect the repository content at https://hf.co/datasets/fever\n",
      "You can avoid this message in future by passing the argument `trust_remote_code=True`.\n",
      "Passing `trust_remote_code=True` will be mandatory to load this dataset from the next major release of `datasets`.\n",
      "  warnings.warn(\n"
     ]
    }
   ],
   "source": [
    "from datasets import load_dataset\n",
    "fever_wiki = load_dataset(\"fever\", 'wiki_pages')\n",
    "fever_nli = load_dataset(\"fever\", 'v1.0')"
   ]
  },
  {
   "cell_type": "code",
   "execution_count": 3,
   "metadata": {},
   "outputs": [],
   "source": [
    "corpus = fever_wiki['wikipedia_pages'][\"text\"][1:]"
   ]
  },
  {
   "cell_type": "code",
   "execution_count": 3,
   "metadata": {},
   "outputs": [],
   "source": [
    "import numpy as np\n",
    "\n",
    "with open('/raid/nlp/sameer/fever/embeddings.npy', 'rb') as f:\n",
    "    embeddings = np.load(f)"
   ]
  },
  {
   "cell_type": "code",
   "execution_count": 4,
   "metadata": {},
   "outputs": [
    {
     "name": "stdout",
     "output_type": "stream",
     "text": [
      "cuda:1\n"
     ]
    },
    {
     "name": "stderr",
     "output_type": "stream",
     "text": [
      "Batches: 100%|██████████| 9733/9733 [01:36<00:00, 101.28it/s]\n"
     ]
    }
   ],
   "source": [
    "from sentence_transformers import SentenceTransformer\n",
    "import torch\n",
    "\n",
    "model = SentenceTransformer('distilbert-base-nli-stsb-mean-tokens')\n",
    "\n",
    "# Check if CUDA is available ans switch to GPU\n",
    "if torch.cuda.is_available():\n",
    "   model = model.to(torch.device(\"cuda:1\"))\n",
    "print(model.device)\n",
    "\n",
    "queries = fever_nli[\"train\"][\"claim\"]\n",
    "query_embeddings = model.encode(queries, show_progress_bar=True)"
   ]
  },
  {
   "cell_type": "code",
   "execution_count": 12,
   "metadata": {},
   "outputs": [
    {
     "data": {
      "text/plain": [
       "Dataset({\n",
       "    features: ['id', 'text', 'lines'],\n",
       "    num_rows: 5416537\n",
       "})"
      ]
     },
     "execution_count": 12,
     "metadata": {},
     "output_type": "execute_result"
    }
   ],
   "source": [
    "fever_wiki['wikipedia_pages']"
   ]
  },
  {
   "cell_type": "code",
   "execution_count": 15,
   "metadata": {},
   "outputs": [
    {
     "name": "stderr",
     "output_type": "stream",
     "text": [
      "100%|██████████| 5416537/5416537 [02:30<00:00, 35879.68it/s]\n"
     ]
    }
   ],
   "source": [
    "from tqdm import tqdm\n",
    "wiki_id2lines = {}\n",
    "for dump in tqdm(fever_wiki['wikipedia_pages']):\n",
    "    if len(dump['text']) != 0:\n",
    "        wiki_id2lines[dump['id']] = dump['text']"
   ]
  },
  {
   "cell_type": "code",
   "execution_count": 16,
   "metadata": {},
   "outputs": [],
   "source": [
    "cnt = 0\n",
    "invalid_queries = []\n",
    "query2evi = {}\n",
    "for query in fever_nli[\"train\"]:\n",
    "    if query[\"evidence_sentence_id\"] == -1:\n",
    "        continue\n",
    "    id_gold = query['evidence_wiki_url']\n",
    "    try:\n",
    "        query2evi[query[\"claim\"]] = wiki_id2lines[id_gold]\n",
    "    except:\n",
    "        invalid_queries.append(query)"
   ]
  },
  {
   "cell_type": "code",
   "execution_count": 17,
   "metadata": {},
   "outputs": [
    {
     "data": {
      "text/plain": [
       "('Nikolaj Coster-Waldau worked with the Fox Broadcasting Company.',\n",
       " \"Nikolaj Coster-Waldau -LRB- -LSB- neɡ̊olaɪ̯ kʰʌsd̥ɐ ˈʋald̥ɑʊ̯ -RSB- ; born 27 July 1970 -RRB- is a Danish actor , producer and screenwriter . He graduated from Danish National School of Theatre in Copenhagen in 1993 . Coster-Waldau 's breakthrough performance in Denmark was his role in the film Nightwatch -LRB- 1994 -RRB- . Since then he has appeared in numerous films in his native Scandinavia and Europe in general , including Headhunters -LRB- 2011 -RRB- and A Thousand Times Good Night -LRB- 2013 -RRB- .   In the United States , his debut film role was in the war film Black Hawk Down -LRB- 2001 -RRB- , playing Medal of Honor recipient Gary Gordon . He then played Detective John Amsterdam in the short-lived Fox television series New Amsterdam -LRB- 2008 -RRB- , as well as appearing as Frank Pike in the 2009 Fox television film Virtuality , originally intended as a pilot . He became widely known to a broad audience for his current role as Ser Jaime Lannister , in the HBO series Game of Thrones . In 2017 , he became one of the highest paid actors on television and earned # 2 million per episode of Game of Thrones . \")"
      ]
     },
     "execution_count": 17,
     "metadata": {},
     "output_type": "execute_result"
    }
   ],
   "source": [
    "list(query2evi.items())[0]"
   ]
  },
  {
   "cell_type": "code",
   "execution_count": 9,
   "metadata": {},
   "outputs": [],
   "source": [
    "import faiss\n",
    "\n",
    "index = faiss.IndexFlatL2(embeddings.shape[1])\n",
    "\n",
    "# Step 3: Pass the index to IndexIDMap\n",
    "index = faiss.IndexIDMap(index)\n",
    "\n",
    "# Step 4: Add vectors and their IDs\n",
    "index.add_with_ids(x=embeddings[1:], ids=np.array([i for i in range(len(corpus))]))"
   ]
  },
  {
   "cell_type": "code",
   "execution_count": 20,
   "metadata": {},
   "outputs": [],
   "source": [
    "D, I = index.search(query_embeddings[:5000], k=10)"
   ]
  },
  {
   "cell_type": "code",
   "execution_count": 22,
   "metadata": {},
   "outputs": [
    {
     "name": "stdout",
     "output_type": "stream",
     "text": [
      "0.12833061446438282\n"
     ]
    }
   ],
   "source": [
    "cnt  = 0\n",
    "invalid_cnt = 0\n",
    "for i in range(0,5000):\n",
    "    # D,I = index.search(np.array([query_embeddings[i]]), k=10)\n",
    "    try:\n",
    "        if query2evi[queries[i]] in [corpus[m] for m in I[i]]:\n",
    "            cnt += 1\n",
    "    except:\n",
    "        invalid_cnt += 1\n",
    "print(cnt/(5000-invalid_cnt))"
   ]
  },
  {
   "cell_type": "code",
   "execution_count": 13,
   "metadata": {},
   "outputs": [
    {
     "name": "stdout",
     "output_type": "stream",
     "text": [
      "Nikolaj Coster-Waldau -LRB- -LSB- neɡ̊olaɪ̯ kʰʌsd̥ɐ ˈʋald̥ɑʊ̯ -RSB- ; born 27 July 1970 -RRB- is a Danish actor , producer and screenwriter . He graduated from Danish National School of Theatre in Copenhagen in 1993 . Coster-Waldau 's breakthrough performance in Denmark was his role in the film Nightwatch -LRB- 1994 -RRB- . Since then he has appeared in numerous films in his native Scandinavia and Europe in general , including Headhunters -LRB- 2011 -RRB- and A Thousand Times Good Night -LRB- 2013 -RRB- .   In the United States , his debut film role was in the war film Black Hawk Down -LRB- 2001 -RRB- , playing Medal of Honor recipient Gary Gordon . He then played Detective John Amsterdam in the short-lived Fox television series New Amsterdam -LRB- 2008 -RRB- , as well as appearing as Frank Pike in the 2009 Fox television film Virtuality , originally intended as a pilot . He became widely known to a broad audience for his current role as Ser Jaime Lannister , in the HBO series Game of Thrones . In 2017 , he became one of the highest paid actors on television and earned # 2 million per episode of Game of Thrones . \n",
      "Nikolaj Coster-Waldau worked with the Fox Broadcasting Company.\n"
     ]
    }
   ],
   "source": [
    "print(query2evi[queries[0]])\n",
    "print(queries[0])"
   ]
  },
  {
   "cell_type": "code",
   "execution_count": 18,
   "metadata": {},
   "outputs": [
    {
     "data": {
      "text/plain": [
       "['Panik may refer to :   Panik , one quarter of the production group Molemen .  Panik -LRB- band -RRB-  Panik , Armenia  Panik -LRB- film -RRB- , a 1928 German film directed by and starring Harry Piel  Richard Pánik , Slovak ice hockey player ',\n",
       " 'Kahr may refer to :   Andrew Kahr , executive  Gustav Ritter von Kahr -LRB- 1862 -- 1934 -RRB- , politician  KAHR , radio station  Kahr Arms , manufacturer ',\n",
       " \"Wildstein may refer to :  Skalná , a city in the Czech Republic known as `` Wildstein '' in German  Bronisław Wildstein -LRB- born 1952 -RRB- , a former Polish dissident , a journalist , and a freelance author  Wildstein list , a list distributed by Bronisław Wildstein of people associated with the Polish intelligence services  David Wildstein -LRB- born 1961 -RRB- , an American businessman , Republican Party politician , and political blogger  Dawid Wildstein , a Polish journalist \",\n",
       " \"Derby is a 1949 West German sports film directed by Roger von Norman and starring Hannelore Schroth , Willy Fritsch and Heinz Engelmann .   It was made by Real Film at the Wandsbek Studios in Hamburg with location filming on the Altes Land . The film 's sets were designed by Mathias Matthies . \",\n",
       " \"Out of the Mist -LRB- German title : Der Sohn der Hagar -RRB- is a 1927 German silent film directed by Fritz Wendhausen and starring Mady Christians , Werner Fuetterer and Lia Eibenschütz .   It was released by the German subsidiary of the Fox Film Company . The film 's sets were designed by the art directors Erich Kettelhut and Karl Vollbrecht . \",\n",
       " 'Ewald von Demandowsky -LRB- October 21 , 1906 -- October 7 , 1946 -RRB- held the office of a Nazi German Reichsfilmdramaturg and was head of production at the Tobis Film company . ',\n",
       " 'Kunert is a surname of   Martin Kunert -LRB- Marcin Stanislaw Kunert-Dziewanowski -RRB- , founding partner of Straight Shooters Entertainment and a feature film  Günter Kunert -LRB- born March 6 , 1929 -RRB- , German writer  Andrzej Kunert -LRB- born 12 October 1952 in Warsaw -RRB- , Polish historian and lecturer  Heinz Kunert , -LRB- 1927 -- 2012 in Cologne -RRB- , German engineer and inventor  Joachim Kunert -LRB- born 24 September 1929 -RRB- , German film director and screenwriter  Timo Kunert -LRB- born 12 March 1987 in Gladbeck -RRB- , German footballer  Gerhard Kunert -LRB- 17 February 1920 -- 31 August 1944 -RRB- , German Unteroffizier   Category : Surnames ',\n",
       " 'List of Fox television affiliates include :   List of Fox television affiliates -LRB- by U.S. state -RRB-  List of Fox television affiliates -LRB- table -RRB-   Fox television affiliates ',\n",
       " \"The Dealer from Amsterdam -LRB- German : Der Trödler von Amsterdam -RRB- is a 1925 German silent film directed by Victor Janson and starring Werner Krauss , Hilde Hildebrand and Harry Hardt . It was made by the German subsidiary of the Fox Film Company .   The film 's art direction was by Andrej Andrejew and Gustav A. Knauer \",\n",
       " \"The Captain from Koepenick -LRB- German : Der Hauptmann von Köpenick -RRB- is a 1926 German silent film directed by Siegfried Dessauer and starring Hermann Picha , Fritz Kampers and Gerhard Ritterband . It is based on the case of Wilhelm Voigt .   The film 's sets were designed by the art director Fritz Kraenke . \"]"
      ]
     },
     "execution_count": 18,
     "metadata": {},
     "output_type": "execute_result"
    }
   ],
   "source": [
    "[corpus[i] for i in I[0]]"
   ]
  },
  {
   "cell_type": "markdown",
   "metadata": {},
   "source": [
    "# BM25 retriever"
   ]
  },
  {
   "cell_type": "code",
   "execution_count": 15,
   "metadata": {},
   "outputs": [],
   "source": [
    "from rank_bm25 import BM25Okapi\n",
    "\n",
    "tokenized_corpus = [doc.split(\" \") for doc in corpus]\n",
    "\n",
    "bm25 = BM25Okapi(tokenized_corpus)"
   ]
  },
  {
   "cell_type": "code",
   "execution_count": 16,
   "metadata": {},
   "outputs": [
    {
     "name": "stdout",
     "output_type": "stream",
     "text": [
      "['A Second Chance -LRB- En chance til -RRB- is a 2014 Danish thriller film directed by Susanne Bier . The film stars Nikolaj Coster-Waldau , Ulrich Thomsen , Maria Bonnevie , Nikolaj Lie Kaas and Lykke May Andersen . It was screened in the Special Presentations section of the 2014 Toronto International Film Festival . ', 'Nikolaj is a given name -LRB- in most cases Николай , Slovene form of Nicholas transliterated to Danish or other Scandinavian language -RRB- , and may refer to :   Nikolaj Abraham Abildgaard , Danish artist  Nicolaj Agger , Danish professional football player  Nikolaj Coster-Waldau , Danish actor  Nikolaj Frederik Severin Grundtvig , Danish teacher , writer , poet , philosopher , historian , pastor and politician  Nikolaj Gavric , footballer from Switzerland who currently plays as midfielder for FC Concordia Basel in the Swiss Challenge League  Nikolaj Koppel , Danish musician  Nikolaj Hansen , Danish football player  Nikolaj Hübbe . balletmaster of the Royal Danish Ballet and former principal dancer at the New York City Ballet  Nikolaj Nyholm , Danish serial technology entrepreneur and investor  Nikolaj Znaider , Danish violinist   Category : Danish masculine given names  Category : Slovene masculine given names ', \"Ved verdens ende -LRB- At World 's End -RRB- is a 2009 Danish action comedy film directed by Tomas Villum Jensen and starring Nikolaj Lie Kaas , Birgitte Hjort Sørensen and Nikolaj Coster-Waldau . \"]\n"
     ]
    }
   ],
   "source": [
    "tokenized_query = fever_nli[\"train\"][0][\"claim\"].split(\" \")\n",
    "retr_doc = bm25.get_top_n(tokenized_query, corpus, n=3)\n",
    "print(retr_doc)"
   ]
  },
  {
   "cell_type": "code",
   "execution_count": 1,
   "metadata": {},
   "outputs": [
    {
     "name": "stdout",
     "output_type": "stream",
     "text": [
      "Collecting easy-elasticsearch\n",
      "  Downloading easy_elasticsearch-0.0.9-py3-none-any.whl.metadata (2.6 kB)\n",
      "Collecting elasticsearch>=7.9.1 (from easy-elasticsearch)\n",
      "  Using cached elasticsearch-8.12.1-py3-none-any.whl.metadata (5.3 kB)\n",
      "Requirement already satisfied: tqdm in /raid/nlp/sameer/anaconda3/envs/myenv/lib/python3.10/site-packages (from easy-elasticsearch) (4.66.2)\n",
      "Requirement already satisfied: requests in /raid/nlp/sameer/anaconda3/envs/myenv/lib/python3.10/site-packages (from easy-elasticsearch) (2.31.0)\n",
      "Collecting elastic-transport<9,>=8 (from elasticsearch>=7.9.1->easy-elasticsearch)\n",
      "  Using cached elastic_transport-8.12.0-py3-none-any.whl.metadata (3.5 kB)\n",
      "Requirement already satisfied: charset-normalizer<4,>=2 in /raid/nlp/sameer/anaconda3/envs/myenv/lib/python3.10/site-packages (from requests->easy-elasticsearch) (3.3.2)\n",
      "Requirement already satisfied: idna<4,>=2.5 in /raid/nlp/sameer/anaconda3/envs/myenv/lib/python3.10/site-packages (from requests->easy-elasticsearch) (3.6)\n",
      "Requirement already satisfied: urllib3<3,>=1.21.1 in /raid/nlp/sameer/anaconda3/envs/myenv/lib/python3.10/site-packages (from requests->easy-elasticsearch) (2.0.7)\n",
      "Requirement already satisfied: certifi>=2017.4.17 in /raid/nlp/sameer/anaconda3/envs/myenv/lib/python3.10/site-packages (from requests->easy-elasticsearch) (2024.2.2)\n",
      "Downloading easy_elasticsearch-0.0.9-py3-none-any.whl (12 kB)\n",
      "Using cached elasticsearch-8.12.1-py3-none-any.whl (432 kB)\n",
      "Using cached elastic_transport-8.12.0-py3-none-any.whl (59 kB)\n",
      "Installing collected packages: elastic-transport, elasticsearch, easy-elasticsearch\n",
      "Successfully installed easy-elasticsearch-0.0.9 elastic-transport-8.12.0 elasticsearch-8.12.1\n"
     ]
    }
   ],
   "source": [
    "!pip install easy-elasticsearch"
   ]
  },
  {
   "cell_type": "code",
   "execution_count": 7,
   "metadata": {},
   "outputs": [
    {
     "name": "stderr",
     "output_type": "stream",
     "text": [
      "2024-03-25 00:28:35 - Successfully reached out to ES service at http://localhost:9222\n",
      "2024-03-25 00:28:35 - Successfully built connection to ES service at http://localhost:9222\n",
      "2024-03-25 00:28:35 - No index found and now do indexing\n",
      "100%|██████████| 10834/10834 [09:36<00:00, 18.78it/s]\n",
      "2024-03-25 00:38:13 - Indexing work done: 5416536 documents indexed\n",
      "2024-03-25 00:38:13 - All set up.\n"
     ]
    }
   ],
   "source": [
    "from easy_elasticsearch import ElasticSearchBM25\n",
    "\n",
    "# pool = {\n",
    "#     'id1': 'What is Python? Is it a programming language',\n",
    "#     'id2': 'Which Python version is the best?',\n",
    "#     'id3': 'Using easy-elasticsearch in Python is really convenient!'\n",
    "# }\n",
    "pool = {i: corpus[i] for i in range(len(corpus))}\n",
    "bm25 = ElasticSearchBM25(pool, port_http='9222', port_tcp='9333')  # By default, when `host=None` and `mode=\"docker\"`, a ES docker container will be started at localhost."
   ]
  },
  {
   "cell_type": "code",
   "execution_count": 29,
   "metadata": {},
   "outputs": [],
   "source": [
    "queries = fever_nli[\"train\"][\"claim\"]"
   ]
  },
  {
   "cell_type": "code",
   "execution_count": 34,
   "metadata": {},
   "outputs": [
    {
     "data": {
      "text/plain": [
       "311431"
      ]
     },
     "execution_count": 34,
     "metadata": {},
     "output_type": "execute_result"
    }
   ],
   "source": [
    "len(fever_nli[\"train\"])"
   ]
  },
  {
   "cell_type": "code",
   "execution_count": null,
   "metadata": {},
   "outputs": [],
   "source": [
    "query2evi"
   ]
  },
  {
   "cell_type": "code",
   "execution_count": 21,
   "metadata": {},
   "outputs": [
    {
     "name": "stdout",
     "output_type": "stream",
     "text": [
      "Nikolaj Coster-Waldau worked with the Fox Broadcasting Company. {'5169564': \"Ved verdens ende -LRB- At World 's End -RRB- is a 2009 Danish action comedy film directed by Tomas Villum Jensen and starring Nikolaj Lie Kaas , Birgitte Hjort Sørensen and Nikolaj Coster-Waldau . \", '3586361': 'Nukaaka Coster-Waldau -LRB- née Sascha Nukaka Motzfeldt ; born 23 February 1971 -RRB- , Nukâka , is a Greenlandic singer , actress , and a former Miss Greenland . She is married to Danish actor Nikolaj Coster-Waldau and has two daughters with him .   The Greenlandic actress of Inuit , German and Norwegian extraction was born in Uummannaq , Greenland . She is the daughter of Vivi and Josef Motzfeldt , a Greenlandic politician . ', '297368': 'A Second Chance -LRB- En chance til -RRB- is a 2014 Danish thriller film directed by Susanne Bier . The film stars Nikolaj Coster-Waldau , Ulrich Thomsen , Maria Bonnevie , Nikolaj Lie Kaas and Lykke May Andersen . It was screened in the Special Presentations section of the 2014 Toronto International Film Festival . ', '313793': 'A Thousand Times Good Night is an Irish-Norwegian produced English language 2013 drama film directed by Erik Poppe , and starring Juliette Binoche , Nikolaj Coster-Waldau , Maria Doyle Kennedy , Larry Mullen Jr. and Mads Ousdal . ', '3559125': \"New Amsterdam is an American television drama which aired for eight episodes in 2008 on Fox . The series starred Nikolaj Coster-Waldau as `` John Amsterdam '' -LRB- real name Johann van der Zee -RRB- , an immortal Dutch man born in 1607 , who has lived in New York City on and off since he was 14 years old , and who is a homicide detective in the present day . The series was nominated for an Emmy for Main Title Design . \", '1239678': 'Coster is a Dutch occupational surname . Notable people with the surname include :   Anne Vallayer-Coster -LRB- 1744-1818 -RRB- , French painter  Arnold Coster -LRB- born 1976 -RRB- , Dutch mountaineers  Charles Coster -LRB- 1837-1888 -RRB- , American soldier and public official  Charles De Coster -LRB- 1827-1879 -RRB- , Belgian novelist  Dick Coster -LRB- born 1946 -RRB- , Dutch sailor , father of Sven and Kalle Coster  Dirk Coster -LRB- 1889 -- 1950 -RRB- , Dutch physicist  Coster -- Kronig transition named after him  Elizabeth Coster -LRB- born 1982 -RRB- , New Zealand swimmer  Francis Coster -LRB- 1532-1619 -RRB- , Flemish Jesuit theologian  Herman Coster -LRB- 1865-1899 -RRB- , Dutch laywer and soldier  Howard Coster -LRB- 1885-1959 -RRB- , British photographer  Janet Coster , English operatic mezzo-soprano  John Coster -LRB- 1838 -- 1886 -RRB- , New Zealand politician  Kalle Coster -LRB- born 1982 -RRB- , Dutch sailor , son of Dick Coster  Keith Coster -LRB- 1920-2012 -RRB- , South African army officer  Laurens Janszoon Coster -LRB- c. 1370-c . 1440 -RRB- , Dutch printer  Moses Elias Coster -LRB- c. 1791 -- 1848 -RRB- , Dutch diamond cutter  Nick Coster -LRB- born 1985 -RRB- , Dutch footballer  Nicolas Coster -LRB- born 1934 -RRB- , British-born American actor  Ritchie Coster -LRB- born 1967 -RRB- , English actor  Salomon Coster -LRB- c. 1620-1659 -RRB- , Dutch clockmaker  Samuel Coster -LRB- 1579 -- 1665 -RRB- , Dutch playwright  Stan Coster -LRB- 1930-1997 -RRB- , Australian country musician  Sven Coster -LRB- born 1978 -RRB- , Dutch sailor , son of Dick Coster  Tom Coster -LRB- born 1941 -RRB- , American musician , father of Tommy  Tommy Coster -LRB- born 1966 -RRB- , American keyboardist and composer , son of Tom  Tracy Coster -LRB- born 1966 -RRB- , Australian country music singer  Willem Jacobszoon Coster -LRB- 1590 -- 1640 -RRB- , Dutch Governor of Ceylon  Coster-Waldau  Nikolaj Coster-Waldau -LRB- born 1970 -RRB- , Danish actor  Nukaaka Coster-Waldau -LRB- born 1971 -RRB- , Greenlandic singer , actress , and model ', '3527543': 'Nikolaj is a given name -LRB- in most cases Николай , Slovene form of Nicholas transliterated to Danish or other Scandinavian language -RRB- , and may refer to :   Nikolaj Abraham Abildgaard , Danish artist  Nicolaj Agger , Danish professional football player  Nikolaj Coster-Waldau , Danish actor  Nikolaj Frederik Severin Grundtvig , Danish teacher , writer , poet , philosopher , historian , pastor and politician  Nikolaj Gavric , footballer from Switzerland who currently plays as midfielder for FC Concordia Basel in the Swiss Challenge League  Nikolaj Koppel , Danish musician  Nikolaj Hansen , Danish football player  Nikolaj Hübbe . balletmaster of the Royal Danish Ballet and former principal dancer at the New York City Ballet  Nikolaj Nyholm , Danish serial technology entrepreneur and investor  Nikolaj Znaider , Danish violinist   Category : Danish masculine given names  Category : Slovene masculine given names ', '4726813': 'The Baker is a 2007 British comedy thriller film written and directed by Gareth Lewis and starring Damian Lewis , Kate Ashfield and Nikolaj Coster-Waldau . An ex-assassin retires to a small Welsh village and opens a bakery but is unable to escape his former associates . It was known in the USA by the alternative title Assassin In Love . ', '2788437': 'Klown Forever -LRB- Danish : Klovn Forever -RRB- is a Danish comedy from 2015 and the successor to the cimena success Klovn - The Movie -LRB- 2010 -RRB- . It is directed by Mikkel Nørgaard , while Casper Christensen and Frank Hvam scripted . The cast includes Casper Christensen , Frank Hvam , Mia Lyhne , Iben Hjejle , Nikolaj Coster-Waldau , Isla Fisher and Adam Levine .   Category :2015 films  Category : Danish comedy films ', '3525815': \"Nikolaj Coster-Waldau -LRB- -LSB- neɡ̊olaɪ̯ kʰʌsd̥ɐ ˈʋald̥ɑʊ̯ -RSB- ; born 27 July 1970 -RRB- is a Danish actor , producer and screenwriter . He graduated from Danish National School of Theatre in Copenhagen in 1993 . Coster-Waldau 's breakthrough performance in Denmark was his role in the film Nightwatch -LRB- 1994 -RRB- . Since then he has appeared in numerous films in his native Scandinavia and Europe in general , including Headhunters -LRB- 2011 -RRB- and A Thousand Times Good Night -LRB- 2013 -RRB- .   In the United States , his debut film role was in the war film Black Hawk Down -LRB- 2001 -RRB- , playing Medal of Honor recipient Gary Gordon . He then played Detective John Amsterdam in the short-lived Fox television series New Amsterdam -LRB- 2008 -RRB- , as well as appearing as Frank Pike in the 2009 Fox television film Virtuality , originally intended as a pilot . He became widely known to a broad audience for his current role as Ser Jaime Lannister , in the HBO series Game of Thrones . In 2017 , he became one of the highest paid actors on television and earned # 2 million per episode of Game of Thrones . \"}\n"
     ]
    }
   ],
   "source": [
    "query = queries[0]\n",
    "rank = bm25.query(query, topk=10)  # topk should be <= 10000\n",
    "# scores = bm25.score(query, document_ids=['id2', 'id3'])\n",
    "\n",
    "print(query, rank)"
   ]
  },
  {
   "cell_type": "code",
   "execution_count": 36,
   "metadata": {},
   "outputs": [
    {
     "name": "stderr",
     "output_type": "stream",
     "text": [
      "100%|██████████| 10000/10000 [04:05<00:00, 40.79it/s]"
     ]
    },
    {
     "name": "stdout",
     "output_type": "stream",
     "text": [
      "0.35321489001692047\n"
     ]
    },
    {
     "name": "stderr",
     "output_type": "stream",
     "text": [
      "\n"
     ]
    }
   ],
   "source": [
    "cnt = 0\n",
    "invalid_cnt = 0\n",
    "for i in tqdm(range(0,10000)):\n",
    "    rank = bm25.query(queries[i], topk=10)\n",
    "    try:\n",
    "        if query2evi[queries[i]] in rank.values():\n",
    "            cnt += 1\n",
    "    except:\n",
    "        invalid_cnt += 1\n",
    "print(cnt/(10000-invalid_cnt))"
   ]
  },
  {
   "cell_type": "code",
   "execution_count": 6,
   "metadata": {},
   "outputs": [
    {
     "name": "stderr",
     "output_type": "stream",
     "text": [
      "2024-03-25 00:28:21 - Index \"one_trial\" does not exist!\n",
      "2024-03-25 00:28:21 - No running ES container found!\n",
      "2024-03-25 00:28:21 - Found idling nodes:\n",
      " 5bce22ba76ef   docker.elastic.co/elasticsearch/elasticsearch:7.9.1   \"/tini -- /usr/local…\"   About an hour ago   Up About an hour   0.0.0.0:9222->9200/tcp, :::9222->9200/tcp, 0.0.0.0:9333->9300/tcp, :::9333->9300/tcp   easy-elasticsearch-node1711301683\n",
      ".\n"
     ]
    }
   ],
   "source": [
    "bm25.delete_index()  # delete the one-trial index named 'one_trial'\n",
    "bm25.delete_container()  # remove the docker container'"
   ]
  },
  {
   "cell_type": "code",
   "execution_count": null,
   "metadata": {},
   "outputs": [],
   "source": []
  }
 ],
 "metadata": {
  "kernelspec": {
   "display_name": "myenv",
   "language": "python",
   "name": "python3"
  },
  "language_info": {
   "codemirror_mode": {
    "name": "ipython",
    "version": 3
   },
   "file_extension": ".py",
   "mimetype": "text/x-python",
   "name": "python",
   "nbconvert_exporter": "python",
   "pygments_lexer": "ipython3",
   "version": "3.10.14"
  },
  "orig_nbformat": 4
 },
 "nbformat": 4,
 "nbformat_minor": 2
}
